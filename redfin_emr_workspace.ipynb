{
 "cells": [
  {
   "cell_type": "code",
   "execution_count": 1,
   "id": "0617fab6-fb96-45b0-b760-375fcbccb3e8",
   "metadata": {
    "execution": {
     "iopub.execute_input": "2024-06-08T10:34:06.833300Z",
     "iopub.status.busy": "2024-06-08T10:34:06.832963Z",
     "iopub.status.idle": "2024-06-08T10:34:37.505758Z",
     "shell.execute_reply": "2024-06-08T10:34:37.505057Z",
     "shell.execute_reply.started": "2024-06-08T10:34:06.833270Z"
    },
    "tags": []
   },
   "outputs": [
    {
     "data": {
      "application/vnd.jupyter.widget-view+json": {
       "model_id": "c6958290ce374187b396eaf4beae952c",
       "version_major": 2,
       "version_minor": 0
      },
      "text/plain": [
       "VBox()"
      ]
     },
     "metadata": {},
     "output_type": "display_data"
    },
    {
     "name": "stdout",
     "output_type": "stream",
     "text": [
      "Starting Spark application\n"
     ]
    },
    {
     "data": {
      "text/html": [
       "<table>\n<tbody><tr><th>ID</th><th>YARN Application ID</th><th>Kind</th><th>State</th><th>Spark UI</th><th>Driver log</th><th>User</th><th>Current session?</th></tr><tr><td>2</td><td>application_1717826852964_0003</td><td>pyspark</td><td>idle</td><td><a target=\"_blank\" href=\"http://ip-10-0-128-247.ap-south-1.compute.internal:20888/proxy/application_1717826852964_0003/\" class=\"emr-proxy-link j-JJR56B6W09OO application_1717826852964_0003\" emr-resource=\"j-JJR56B6W09OO\n\" application-id=\"application_1717826852964_0003\">Link</a></td><td><a target=\"_blank\" href=\"http://ip-10-0-128-137.ap-south-1.compute.internal:8042/node/containerlogs/container_1717826852964_0003_01_000001/livy\">Link</a></td><td>None</td><td>✔</td></tr></tbody></table>"
      ],
      "text/plain": [
       "<IPython.core.display.HTML object>"
      ]
     },
     "metadata": {},
     "output_type": "display_data"
    },
    {
     "data": {
      "application/vnd.jupyter.widget-view+json": {
       "model_id": "",
       "version_major": 2,
       "version_minor": 0
      },
      "text/plain": [
       "FloatProgress(value=0.0, bar_style='info', description='Progress:', layout=Layout(height='25px', width='50%'),…"
      ]
     },
     "metadata": {},
     "output_type": "display_data"
    },
    {
     "name": "stdout",
     "output_type": "stream",
     "text": [
      "SparkSession available as 'spark'.\n"
     ]
    },
    {
     "data": {
      "application/vnd.jupyter.widget-view+json": {
       "model_id": "",
       "version_major": 2,
       "version_minor": 0
      },
      "text/plain": [
       "FloatProgress(value=0.0, bar_style='info', description='Progress:', layout=Layout(height='25px', width='50%'),…"
      ]
     },
     "metadata": {},
     "output_type": "display_data"
    }
   ],
   "source": [
    "from pyspark.sql import SparkSession\n",
    "from pyspark.sql.functions import col"
   ]
  },
  {
   "cell_type": "code",
   "execution_count": null,
   "id": "ce902b7e-9e9d-4dcd-841d-1ba9fb838b34",
   "metadata": {
    "execution": {
     "iopub.execute_input": "2024-06-08T08:00:56.629998Z",
     "iopub.status.busy": "2024-06-08T08:00:56.629697Z"
    }
   },
   "outputs": [],
   "source": [
    "%%bash\n",
    "## this is a bash command\n",
    "#wget -O - https://redfin-public-data.s3.us-west-2.amazonaws.com/redfin_market_tracker/city_market_tracker.tsv000.gz | aws s3 cp - s3://store-raw-data-redfin-yml/city_market_tracker.tsv000.gz "
   ]
  },
  {
   "cell_type": "code",
   "execution_count": 2,
   "id": "2de683cd-cf93-4009-8cfe-3544acf5915d",
   "metadata": {
    "execution": {
     "iopub.execute_input": "2024-06-08T10:34:40.908647Z",
     "iopub.status.busy": "2024-06-08T10:34:40.908348Z",
     "iopub.status.idle": "2024-06-08T10:34:40.958394Z",
     "shell.execute_reply": "2024-06-08T10:34:40.957784Z",
     "shell.execute_reply.started": "2024-06-08T10:34:40.908621Z"
    },
    "tags": []
   },
   "outputs": [
    {
     "data": {
      "application/vnd.jupyter.widget-view+json": {
       "model_id": "3dd5cbb3718e47e4b9653cef06dbe7f6",
       "version_major": 2,
       "version_minor": 0
      },
      "text/plain": [
       "VBox()"
      ]
     },
     "metadata": {},
     "output_type": "display_data"
    },
    {
     "data": {
      "application/vnd.jupyter.widget-view+json": {
       "model_id": "",
       "version_major": 2,
       "version_minor": 0
      },
      "text/plain": [
       "FloatProgress(value=0.0, bar_style='info', description='Progress:', layout=Layout(height='25px', width='50%'),…"
      ]
     },
     "metadata": {},
     "output_type": "display_data"
    }
   ],
   "source": [
    "spark = SparkSession.builder.appName(\"RedfinDataanalysis\").getOrCreate()"
   ]
  },
  {
   "cell_type": "code",
   "execution_count": 3,
   "id": "85e40225-ff51-438a-b688-306be5d0a21f",
   "metadata": {
    "execution": {
     "iopub.execute_input": "2024-06-08T10:34:46.135799Z",
     "iopub.status.busy": "2024-06-08T10:34:46.135483Z",
     "iopub.status.idle": "2024-06-08T10:36:53.815575Z",
     "shell.execute_reply": "2024-06-08T10:36:53.814933Z",
     "shell.execute_reply.started": "2024-06-08T10:34:46.135774Z"
    },
    "tags": []
   },
   "outputs": [
    {
     "data": {
      "application/vnd.jupyter.widget-view+json": {
       "model_id": "1712aea8dd25406ba44002136f06b001",
       "version_major": 2,
       "version_minor": 0
      },
      "text/plain": [
       "VBox()"
      ]
     },
     "metadata": {},
     "output_type": "display_data"
    },
    {
     "data": {
      "application/vnd.jupyter.widget-view+json": {
       "model_id": "",
       "version_major": 2,
       "version_minor": 0
      },
      "text/plain": [
       "FloatProgress(value=0.0, bar_style='info', description='Progress:', layout=Layout(height='25px', width='50%'),…"
      ]
     },
     "metadata": {},
     "output_type": "display_data"
    }
   ],
   "source": [
    "df = spark.read.csv('s3://store-raw-data-redfin-yml/city_market_tracker.tsv000.gz', header=True, inferSchema=True, sep='\\t' )"
   ]
  },
  {
   "cell_type": "code",
   "execution_count": 4,
   "id": "808badbb-0155-4b93-9e2b-e4c59893709d",
   "metadata": {
    "execution": {
     "iopub.execute_input": "2024-06-08T10:37:03.496819Z",
     "iopub.status.busy": "2024-06-08T10:37:03.496495Z",
     "iopub.status.idle": "2024-06-08T10:37:03.756119Z",
     "shell.execute_reply": "2024-06-08T10:37:03.755314Z",
     "shell.execute_reply.started": "2024-06-08T10:37:03.496789Z"
    },
    "tags": []
   },
   "outputs": [
    {
     "data": {
      "application/vnd.jupyter.widget-view+json": {
       "model_id": "cced255a11124869b426ddd97e4da0d9",
       "version_major": 2,
       "version_minor": 0
      },
      "text/plain": [
       "VBox()"
      ]
     },
     "metadata": {},
     "output_type": "display_data"
    },
    {
     "data": {
      "application/vnd.jupyter.widget-view+json": {
       "model_id": "",
       "version_major": 2,
       "version_minor": 0
      },
      "text/plain": [
       "FloatProgress(value=0.0, bar_style='info', description='Progress:', layout=Layout(height='25px', width='50%'),…"
      ]
     },
     "metadata": {},
     "output_type": "display_data"
    },
    {
     "name": "stdout",
     "output_type": "stream",
     "text": [
      "root\n",
      " |-- period_begin: date (nullable = true)\n",
      " |-- period_end: date (nullable = true)\n",
      " |-- period_duration: integer (nullable = true)\n",
      " |-- region_type: string (nullable = true)\n",
      " |-- region_type_id: integer (nullable = true)\n",
      " |-- table_id: integer (nullable = true)\n",
      " |-- is_seasonally_adjusted: string (nullable = true)\n",
      " |-- region: string (nullable = true)\n",
      " |-- city: string (nullable = true)\n",
      " |-- state: string (nullable = true)\n",
      " |-- state_code: string (nullable = true)\n",
      " |-- property_type: string (nullable = true)\n",
      " |-- property_type_id: integer (nullable = true)\n",
      " |-- median_sale_price: double (nullable = true)\n",
      " |-- median_sale_price_mom: double (nullable = true)\n",
      " |-- median_sale_price_yoy: double (nullable = true)\n",
      " |-- median_list_price: double (nullable = true)\n",
      " |-- median_list_price_mom: double (nullable = true)\n",
      " |-- median_list_price_yoy: double (nullable = true)\n",
      " |-- median_ppsf: double (nullable = true)\n",
      " |-- median_ppsf_mom: double (nullable = true)\n",
      " |-- median_ppsf_yoy: double (nullable = true)\n",
      " |-- median_list_ppsf: double (nullable = true)\n",
      " |-- median_list_ppsf_mom: double (nullable = true)\n",
      " |-- median_list_ppsf_yoy: double (nullable = true)\n",
      " |-- homes_sold: integer (nullable = true)\n",
      " |-- homes_sold_mom: double (nullable = true)\n",
      " |-- homes_sold_yoy: double (nullable = true)\n",
      " |-- pending_sales: integer (nullable = true)\n",
      " |-- pending_sales_mom: double (nullable = true)\n",
      " |-- pending_sales_yoy: double (nullable = true)\n",
      " |-- new_listings: integer (nullable = true)\n",
      " |-- new_listings_mom: double (nullable = true)\n",
      " |-- new_listings_yoy: double (nullable = true)\n",
      " |-- inventory: integer (nullable = true)\n",
      " |-- inventory_mom: double (nullable = true)\n",
      " |-- inventory_yoy: double (nullable = true)\n",
      " |-- months_of_supply: double (nullable = true)\n",
      " |-- months_of_supply_mom: double (nullable = true)\n",
      " |-- months_of_supply_yoy: double (nullable = true)\n",
      " |-- median_dom: integer (nullable = true)\n",
      " |-- median_dom_mom: integer (nullable = true)\n",
      " |-- median_dom_yoy: integer (nullable = true)\n",
      " |-- avg_sale_to_list: double (nullable = true)\n",
      " |-- avg_sale_to_list_mom: double (nullable = true)\n",
      " |-- avg_sale_to_list_yoy: double (nullable = true)\n",
      " |-- sold_above_list: double (nullable = true)\n",
      " |-- sold_above_list_mom: double (nullable = true)\n",
      " |-- sold_above_list_yoy: double (nullable = true)\n",
      " |-- price_drops: double (nullable = true)\n",
      " |-- price_drops_mom: double (nullable = true)\n",
      " |-- price_drops_yoy: double (nullable = true)\n",
      " |-- off_market_in_two_weeks: double (nullable = true)\n",
      " |-- off_market_in_two_weeks_mom: double (nullable = true)\n",
      " |-- off_market_in_two_weeks_yoy: double (nullable = true)\n",
      " |-- parent_metro_region: string (nullable = true)\n",
      " |-- parent_metro_region_metro_code: integer (nullable = true)\n",
      " |-- last_updated: timestamp (nullable = true)"
     ]
    }
   ],
   "source": [
    "df.printSchema()"
   ]
  },
  {
   "cell_type": "code",
   "execution_count": 6,
   "id": "c58535b2-12af-4444-adf7-f7ab5cc44d55",
   "metadata": {
    "execution": {
     "iopub.execute_input": "2024-06-08T10:37:19.493982Z",
     "iopub.status.busy": "2024-06-08T10:37:19.493649Z",
     "iopub.status.idle": "2024-06-08T10:37:19.545279Z",
     "shell.execute_reply": "2024-06-08T10:37:19.544349Z",
     "shell.execute_reply.started": "2024-06-08T10:37:19.493952Z"
    },
    "tags": []
   },
   "outputs": [
    {
     "data": {
      "application/vnd.jupyter.widget-view+json": {
       "model_id": "cb5e437c893046499f7a915f0778a0a2",
       "version_major": 2,
       "version_minor": 0
      },
      "text/plain": [
       "VBox()"
      ]
     },
     "metadata": {},
     "output_type": "display_data"
    },
    {
     "data": {
      "application/vnd.jupyter.widget-view+json": {
       "model_id": "",
       "version_major": 2,
       "version_minor": 0
      },
      "text/plain": [
       "FloatProgress(value=0.0, bar_style='info', description='Progress:', layout=Layout(height='25px', width='50%'),…"
      ]
     },
     "metadata": {},
     "output_type": "display_data"
    },
    {
     "name": "stdout",
     "output_type": "stream",
     "text": [
      "['period_begin', 'period_end', 'period_duration', 'region_type', 'region_type_id', 'table_id', 'is_seasonally_adjusted', 'region', 'city', 'state', 'state_code', 'property_type', 'property_type_id', 'median_sale_price', 'median_sale_price_mom', 'median_sale_price_yoy', 'median_list_price', 'median_list_price_mom', 'median_list_price_yoy', 'median_ppsf', 'median_ppsf_mom', 'median_ppsf_yoy', 'median_list_ppsf', 'median_list_ppsf_mom', 'median_list_ppsf_yoy', 'homes_sold', 'homes_sold_mom', 'homes_sold_yoy', 'pending_sales', 'pending_sales_mom', 'pending_sales_yoy', 'new_listings', 'new_listings_mom', 'new_listings_yoy', 'inventory', 'inventory_mom', 'inventory_yoy', 'months_of_supply', 'months_of_supply_mom', 'months_of_supply_yoy', 'median_dom', 'median_dom_mom', 'median_dom_yoy', 'avg_sale_to_list', 'avg_sale_to_list_mom', 'avg_sale_to_list_yoy', 'sold_above_list', 'sold_above_list_mom', 'sold_above_list_yoy', 'price_drops', 'price_drops_mom', 'price_drops_yoy', 'off_market_in_two_weeks', 'off_market_in_two_weeks_mom', 'off_market_in_two_weeks_yoy', 'parent_metro_region', 'parent_metro_region_metro_code', 'last_updated']"
     ]
    }
   ],
   "source": [
    "df.columns"
   ]
  },
  {
   "cell_type": "code",
   "execution_count": 8,
   "id": "7333c41d-b05a-4e24-b2e5-2e90caf324e6",
   "metadata": {
    "execution": {
     "iopub.execute_input": "2024-06-08T10:40:31.622621Z",
     "iopub.status.busy": "2024-06-08T10:40:31.622322Z",
     "iopub.status.idle": "2024-06-08T10:40:40.912957Z",
     "shell.execute_reply": "2024-06-08T10:40:40.912178Z",
     "shell.execute_reply.started": "2024-06-08T10:40:31.622596Z"
    },
    "tags": []
   },
   "outputs": [
    {
     "data": {
      "application/vnd.jupyter.widget-view+json": {
       "model_id": "adee2aafede44fa987a6a6470b842e07",
       "version_major": 2,
       "version_minor": 0
      },
      "text/plain": [
       "VBox()"
      ]
     },
     "metadata": {},
     "output_type": "display_data"
    },
    {
     "data": {
      "application/vnd.jupyter.widget-view+json": {
       "model_id": "",
       "version_major": 2,
       "version_minor": 0
      },
      "text/plain": [
       "FloatProgress(value=0.0, bar_style='info', description='Progress:', layout=Layout(height='25px', width='50%'),…"
      ]
     },
     "metadata": {},
     "output_type": "display_data"
    },
    {
     "name": "stdout",
     "output_type": "stream",
     "text": [
      "+----------+---------------+----------+--------+--------------------+-----------------+------------------+----------+---------+----------------+----------+-------------------+-------------------+\n",
      "|period_end|period_duration|      city|   state|       property_type|median_sale_price|       median_ppsf|homes_sold|inventory|months_of_supply|median_dom|    sold_above_list|       last_updated|\n",
      "+----------+---------------+----------+--------+--------------------+-----------------+------------------+----------+---------+----------------+----------+-------------------+-------------------+\n",
      "|2020-04-30|             30|Aspen Hill|Maryland|Single Family Res...|         543474.0|249.36921783010933|        27|       40|             1.5|         8|0.48148148148148145|2024-05-19 14:23:50|\n",
      "|2018-09-30|             30| Riverside|    Iowa|     All Residential|         212550.0|109.68417945690673|         2|       11|             5.5|       595|                0.5|2024-05-19 14:23:50|\n",
      "|2018-04-30|             30|  Staunton|Illinois|Single Family Res...|          97500.0| 61.41605166051661|         6|        1|             0.2|        65|                0.0|2024-05-19 14:23:50|\n",
      "+----------+---------------+----------+--------+--------------------+-----------------+------------------+----------+---------+----------------+----------+-------------------+-------------------+\n",
      "only showing top 3 rows"
     ]
    }
   ],
   "source": [
    "df = df.select(['period_end','period_duration', 'city', 'state', 'property_type',\n",
    "    'median_sale_price', 'median_ppsf', 'homes_sold', 'inventory', 'months_of_supply', 'median_dom', 'sold_above_list', 'last_updated'])\n",
    "df.show(3)"
   ]
  },
  {
   "cell_type": "code",
   "execution_count": 10,
   "id": "d67381e7-4031-4d09-b5ac-b79181ab71a1",
   "metadata": {
    "execution": {
     "iopub.execute_input": "2024-06-08T10:42:01.467841Z",
     "iopub.status.busy": "2024-06-08T10:42:01.467529Z",
     "iopub.status.idle": "2024-06-08T10:42:34.831652Z",
     "shell.execute_reply": "2024-06-08T10:42:34.830828Z",
     "shell.execute_reply.started": "2024-06-08T10:42:01.467813Z"
    },
    "tags": []
   },
   "outputs": [
    {
     "data": {
      "application/vnd.jupyter.widget-view+json": {
       "model_id": "e0e2e4cca3e643509cd26938032842a3",
       "version_major": 2,
       "version_minor": 0
      },
      "text/plain": [
       "VBox()"
      ]
     },
     "metadata": {},
     "output_type": "display_data"
    },
    {
     "data": {
      "application/vnd.jupyter.widget-view+json": {
       "model_id": "",
       "version_major": 2,
       "version_minor": 0
      },
      "text/plain": [
       "FloatProgress(value=0.0, bar_style='info', description='Progress:', layout=Layout(height='25px', width='50%'),…"
      ]
     },
     "metadata": {},
     "output_type": "display_data"
    },
    {
     "name": "stdout",
     "output_type": "stream",
     "text": [
      "5354687"
     ]
    }
   ],
   "source": [
    "df.count() ## Total number of rows"
   ]
  },
  {
   "cell_type": "code",
   "execution_count": 20,
   "id": "4c7682b7-6243-4f98-b6ea-520a0080223c",
   "metadata": {
    "execution": {
     "iopub.execute_input": "2024-06-08T11:12:00.349430Z",
     "iopub.status.busy": "2024-06-08T11:12:00.349080Z",
     "iopub.status.idle": "2024-06-08T11:22:51.446080Z",
     "shell.execute_reply": "2024-06-08T11:22:51.445359Z",
     "shell.execute_reply.started": "2024-06-08T11:12:00.349400Z"
    },
    "tags": []
   },
   "outputs": [
    {
     "data": {
      "application/vnd.jupyter.widget-view+json": {
       "model_id": "e64761e4c2ed45348532b97eead8402a",
       "version_major": 2,
       "version_minor": 0
      },
      "text/plain": [
       "VBox()"
      ]
     },
     "metadata": {},
     "output_type": "display_data"
    },
    {
     "data": {
      "application/vnd.jupyter.widget-view+json": {
       "model_id": "",
       "version_major": 2,
       "version_minor": 0
      },
      "text/plain": [
       "FloatProgress(value=0.0, bar_style='info', description='Progress:', layout=Layout(height='25px', width='50%'),…"
      ]
     },
     "metadata": {},
     "output_type": "display_data"
    },
    {
     "name": "stdout",
     "output_type": "stream",
     "text": [
      "[0, 0, 0, 0, 0, 6138, 69691, 5719, 423284, 344188, 70742, 36724, 0]"
     ]
    }
   ],
   "source": [
    "from pyspark.sql.functions import isnull\n",
    "null_values = [df.where(isnull(col_name)).count() for col_name in df.columns]\n",
    "null_values"
   ]
  },
  {
   "cell_type": "code",
   "execution_count": 22,
   "id": "89bcb09c-9a28-4f77-855a-ea47e219a6eb",
   "metadata": {
    "execution": {
     "iopub.execute_input": "2024-06-08T11:24:36.952772Z",
     "iopub.status.busy": "2024-06-08T11:24:36.952468Z",
     "iopub.status.idle": "2024-06-08T11:24:36.995496Z",
     "shell.execute_reply": "2024-06-08T11:24:36.994803Z",
     "shell.execute_reply.started": "2024-06-08T11:24:36.952746Z"
    },
    "tags": []
   },
   "outputs": [
    {
     "data": {
      "application/vnd.jupyter.widget-view+json": {
       "model_id": "030b397a55804f9c8790c99c42bdc2eb",
       "version_major": 2,
       "version_minor": 0
      },
      "text/plain": [
       "VBox()"
      ]
     },
     "metadata": {},
     "output_type": "display_data"
    },
    {
     "data": {
      "application/vnd.jupyter.widget-view+json": {
       "model_id": "",
       "version_major": 2,
       "version_minor": 0
      },
      "text/plain": [
       "FloatProgress(value=0.0, bar_style='info', description='Progress:', layout=Layout(height='25px', width='50%'),…"
      ]
     },
     "metadata": {},
     "output_type": "display_data"
    },
    {
     "name": "stdout",
     "output_type": "stream",
     "text": [
      "period_end: 0\n",
      "period_duration: 0\n",
      "city: 0\n",
      "state: 0\n",
      "property_type: 0\n",
      "median_sale_price: 6138\n",
      "median_ppsf: 69691\n",
      "homes_sold: 5719\n",
      "inventory: 423284\n",
      "months_of_supply: 344188\n",
      "median_dom: 70742\n",
      "sold_above_list: 36724\n",
      "last_updated: 0"
     ]
    }
   ],
   "source": [
    "for i, col_name in enumerate(df.columns):\n",
    "    print(f'{col_name}: {null_values[i]}')"
   ]
  },
  {
   "cell_type": "code",
   "execution_count": 23,
   "id": "b57c7117-fea7-48d3-b22a-af1a55a91a86",
   "metadata": {
    "execution": {
     "iopub.execute_input": "2024-06-08T11:25:55.922712Z",
     "iopub.status.busy": "2024-06-08T11:25:55.922405Z",
     "iopub.status.idle": "2024-06-08T11:25:56.172420Z",
     "shell.execute_reply": "2024-06-08T11:25:56.171535Z",
     "shell.execute_reply.started": "2024-06-08T11:25:55.922686Z"
    }
   },
   "outputs": [
    {
     "data": {
      "application/vnd.jupyter.widget-view+json": {
       "model_id": "82329c6e88b243948940ff1c8001c0d2",
       "version_major": 2,
       "version_minor": 0
      },
      "text/plain": [
       "VBox()"
      ]
     },
     "metadata": {},
     "output_type": "display_data"
    },
    {
     "data": {
      "application/vnd.jupyter.widget-view+json": {
       "model_id": "",
       "version_major": 2,
       "version_minor": 0
      },
      "text/plain": [
       "FloatProgress(value=0.0, bar_style='info', description='Progress:', layout=Layout(height='25px', width='50%'),…"
      ]
     },
     "metadata": {},
     "output_type": "display_data"
    }
   ],
   "source": [
    "df = df.dropna() ## dropping rows which have any null values"
   ]
  },
  {
   "cell_type": "code",
   "execution_count": 25,
   "id": "7fa4fadb-7888-440a-bdb7-412c476a479e",
   "metadata": {
    "execution": {
     "iopub.execute_input": "2024-06-08T11:26:11.384502Z",
     "iopub.status.busy": "2024-06-08T11:26:11.384182Z",
     "iopub.status.idle": "2024-06-08T11:27:24.821472Z",
     "shell.execute_reply": "2024-06-08T11:27:24.820575Z",
     "shell.execute_reply.started": "2024-06-08T11:26:11.384474Z"
    },
    "tags": []
   },
   "outputs": [
    {
     "data": {
      "application/vnd.jupyter.widget-view+json": {
       "model_id": "cd86a340cca740a2b07c18a425393753",
       "version_major": 2,
       "version_minor": 0
      },
      "text/plain": [
       "VBox()"
      ]
     },
     "metadata": {},
     "output_type": "display_data"
    },
    {
     "data": {
      "application/vnd.jupyter.widget-view+json": {
       "model_id": "",
       "version_major": 2,
       "version_minor": 0
      },
      "text/plain": [
       "FloatProgress(value=0.0, bar_style='info', description='Progress:', layout=Layout(height='25px', width='50%'),…"
      ]
     },
     "metadata": {},
     "output_type": "display_data"
    },
    {
     "name": "stdout",
     "output_type": "stream",
     "text": [
      "4842224"
     ]
    }
   ],
   "source": [
    "df.count()"
   ]
  },
  {
   "cell_type": "code",
   "execution_count": 26,
   "id": "42abceec-711e-4cce-b0d7-05c29e8da310",
   "metadata": {
    "execution": {
     "iopub.execute_input": "2024-06-08T11:34:46.774105Z",
     "iopub.status.busy": "2024-06-08T11:34:46.773753Z",
     "iopub.status.idle": "2024-06-08T11:34:47.027398Z",
     "shell.execute_reply": "2024-06-08T11:34:47.026677Z",
     "shell.execute_reply.started": "2024-06-08T11:34:46.774075Z"
    }
   },
   "outputs": [
    {
     "data": {
      "application/vnd.jupyter.widget-view+json": {
       "model_id": "35db1afda52c452f83e8e590f60955b2",
       "version_major": 2,
       "version_minor": 0
      },
      "text/plain": [
       "VBox()"
      ]
     },
     "metadata": {},
     "output_type": "display_data"
    },
    {
     "data": {
      "application/vnd.jupyter.widget-view+json": {
       "model_id": "",
       "version_major": 2,
       "version_minor": 0
      },
      "text/plain": [
       "FloatProgress(value=0.0, bar_style='info', description='Progress:', layout=Layout(height='25px', width='50%'),…"
      ]
     },
     "metadata": {},
     "output_type": "display_data"
    }
   ],
   "source": [
    "from pyspark.sql.functions import year, month\n",
    "\n",
    "df=df.withColumn('year', year(df.period_end))\n",
    "df=df.withColumn('month', month(df.period_end))"
   ]
  },
  {
   "cell_type": "code",
   "execution_count": 27,
   "id": "49c92441-4a73-4f30-bdff-412842193b93",
   "metadata": {
    "execution": {
     "iopub.execute_input": "2024-06-08T11:35:29.979761Z",
     "iopub.status.busy": "2024-06-08T11:35:29.979458Z",
     "iopub.status.idle": "2024-06-08T11:35:30.223401Z",
     "shell.execute_reply": "2024-06-08T11:35:30.222623Z",
     "shell.execute_reply.started": "2024-06-08T11:35:29.979734Z"
    }
   },
   "outputs": [
    {
     "data": {
      "application/vnd.jupyter.widget-view+json": {
       "model_id": "85964c9d738d473a937ac84e72e61e09",
       "version_major": 2,
       "version_minor": 0
      },
      "text/plain": [
       "VBox()"
      ]
     },
     "metadata": {},
     "output_type": "display_data"
    },
    {
     "data": {
      "application/vnd.jupyter.widget-view+json": {
       "model_id": "",
       "version_major": 2,
       "version_minor": 0
      },
      "text/plain": [
       "FloatProgress(value=0.0, bar_style='info', description='Progress:', layout=Layout(height='25px', width='50%'),…"
      ]
     },
     "metadata": {},
     "output_type": "display_data"
    }
   ],
   "source": [
    "df = df.drop('period_end', 'last_updated')"
   ]
  },
  {
   "cell_type": "code",
   "execution_count": 30,
   "id": "d4698554-5649-4c47-9fdb-870b426dad59",
   "metadata": {
    "execution": {
     "iopub.execute_input": "2024-06-08T11:39:33.701206Z",
     "iopub.status.busy": "2024-06-08T11:39:33.700904Z",
     "iopub.status.idle": "2024-06-08T11:39:33.946462Z",
     "shell.execute_reply": "2024-06-08T11:39:33.945643Z",
     "shell.execute_reply.started": "2024-06-08T11:39:33.701180Z"
    },
    "tags": []
   },
   "outputs": [
    {
     "data": {
      "application/vnd.jupyter.widget-view+json": {
       "model_id": "2e4bf6f7352d467897c9e810fa33390d",
       "version_major": 2,
       "version_minor": 0
      },
      "text/plain": [
       "VBox()"
      ]
     },
     "metadata": {},
     "output_type": "display_data"
    },
    {
     "data": {
      "application/vnd.jupyter.widget-view+json": {
       "model_id": "",
       "version_major": 2,
       "version_minor": 0
      },
      "text/plain": [
       "FloatProgress(value=0.0, bar_style='info', description='Progress:', layout=Layout(height='25px', width='50%'),…"
      ]
     },
     "metadata": {},
     "output_type": "display_data"
    }
   ],
   "source": [
    "from pyspark.sql.functions import when\n",
    "\n",
    "#let's map the month number to their respective month name.\n",
    "\n",
    "df = df.withColumn(\"period_end_month\", \n",
    "                   when(col(\"month\") == 1, \"January\")\n",
    "                   .when(col(\"month\") == 2, \"February\")\n",
    "                   .when(col(\"month\") == 3, \"March\")\n",
    "                   .when(col(\"month\") == 4, \"April\")\n",
    "                   .when(col(\"month\") == 5, \"May\")\n",
    "                   .when(col(\"month\") == 6, \"June\")\n",
    "                   .when(col(\"month\") == 7, \"July\")\n",
    "                   .when(col(\"month\") == 8, \"August\")\n",
    "                   .when(col(\"month\") == 9, \"September\")\n",
    "                   .when(col(\"month\") == 10, \"October\")\n",
    "                   .when(col(\"month\") == 11, \"November\")\n",
    "                   .when(col(\"month\") == 12, \"December\")\n",
    "                   .otherwise(\"Unknown\")\n",
    "                 )"
   ]
  },
  {
   "cell_type": "code",
   "execution_count": 31,
   "id": "cf115add-b7b3-4e3f-91a5-111ac323c38b",
   "metadata": {
    "execution": {
     "iopub.execute_input": "2024-06-08T11:42:07.193970Z",
     "iopub.status.busy": "2024-06-08T11:42:07.193671Z",
     "iopub.status.idle": "2024-06-08T11:43:36.667452Z",
     "shell.execute_reply": "2024-06-08T11:43:36.666648Z",
     "shell.execute_reply.started": "2024-06-08T11:42:07.193946Z"
    },
    "tags": []
   },
   "outputs": [
    {
     "data": {
      "application/vnd.jupyter.widget-view+json": {
       "model_id": "8e9bfba1116e40d7bda61179aeaa7e84",
       "version_major": 2,
       "version_minor": 0
      },
      "text/plain": [
       "VBox()"
      ]
     },
     "metadata": {},
     "output_type": "display_data"
    },
    {
     "data": {
      "application/vnd.jupyter.widget-view+json": {
       "model_id": "",
       "version_major": 2,
       "version_minor": 0
      },
      "text/plain": [
       "FloatProgress(value=0.0, bar_style='info', description='Progress:', layout=Layout(height='25px', width='50%'),…"
      ]
     },
     "metadata": {},
     "output_type": "display_data"
    }
   ],
   "source": [
    "s3_bucket = \"s3://redfin-transformed-zone/redfin_data.parquet\"\n",
    "df.write.mode(\"overwrite\").parquet(s3_bucket)"
   ]
  },
  {
   "cell_type": "code",
   "execution_count": null,
   "id": "6a122cd3-cac6-43d4-acbf-bb16a8679fab",
   "metadata": {},
   "outputs": [],
   "source": []
  }
 ],
 "metadata": {
  "kernelspec": {
   "display_name": "PySpark",
   "language": "python",
   "name": "pysparkkernel"
  },
  "language_info": {
   "codemirror_mode": {
    "name": "python",
    "version": 3
   },
   "file_extension": ".py",
   "mimetype": "text/x-python",
   "name": "pyspark",
   "pygments_lexer": "python3"
  }
 },
 "nbformat": 4,
 "nbformat_minor": 5
}
